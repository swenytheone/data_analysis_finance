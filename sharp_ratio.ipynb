{
  "nbformat": 4,
  "nbformat_minor": 0,
  "metadata": {
    "colab": {
      "provenance": [],
      "authorship_tag": "ABX9TyMJ2PFlhhW9y7wkXe80pHsD",
      "include_colab_link": true
    },
    "kernelspec": {
      "name": "python3",
      "display_name": "Python 3"
    },
    "language_info": {
      "name": "python"
    }
  },
  "cells": [
    {
      "cell_type": "markdown",
      "metadata": {
        "id": "view-in-github",
        "colab_type": "text"
      },
      "source": [
        "<a href=\"https://colab.research.google.com/github/swenytheone/data_analysis_finance/blob/main/sharp_ratio.ipynb\" target=\"_parent\"><img src=\"https://colab.research.google.com/assets/colab-badge.svg\" alt=\"Open In Colab\"/></a>"
      ]
    },
    {
      "cell_type": "code",
      "execution_count": 7,
      "metadata": {
        "id": "0DSkX_-wfCWM"
      },
      "outputs": [],
      "source": [
        "import yfinance as yf\n",
        "import numpy as np\n",
        "import matplotlib.pyplot as plt"
      ]
    },
    {
      "cell_type": "code",
      "source": [
        "data = yf.download([\"SPY\", \"AAPL\"], start=\"2020-01-01\", end=\"2022-08-30\")\n",
        "closes = data[\"Adj Close\"]\n",
        "spy_returns = closes.SPY.pct_change().dropna()\n",
        "aapl_returns = closes.AAPL.pct_change().dropna()"
      ],
      "metadata": {
        "colab": {
          "base_uri": "https://localhost:8080/"
        },
        "id": "mitXqtlVfHp-",
        "outputId": "77cb4334-fe12-418d-b5a9-774b28167604"
      },
      "execution_count": 8,
      "outputs": [
        {
          "output_type": "stream",
          "name": "stdout",
          "text": [
            "[*********************100%***********************]  2 of 2 completed\n"
          ]
        }
      ]
    },
    {
      "cell_type": "markdown",
      "source": [
        "The Sharpe ratio tells you the “risk-adjusted” return of an investment.\n",
        "\n",
        "In other words, “how much return do you get for every unit of risk you take.”\n",
        "\n",
        "It’s a great way to compare strategies because it normalizes their returns.\n"
      ],
      "metadata": {
        "id": "r_3Kc4QCjWFT"
      }
    },
    {
      "cell_type": "markdown",
      "source": [
        "This function does 3 things:\n",
        "\n",
        "1. Subtracts an adjustment factor\n",
        "2. Divides the mean return by the standard deviation of return\n",
        "3. Multiplies by the square root of the number of trading days in the year\n",
        "\n",
        "This returns the annualized Sharpe ratio!\n"
      ],
      "metadata": {
        "id": "Zm4Zihq4jjq7"
      }
    },
    {
      "cell_type": "code",
      "source": [
        "def sharp_ratio(returns, adjustment_factor=0.0):\n",
        "  \"\"\"\n",
        "  Determine the sharp ratio of a strategy\n",
        "  \n",
        "  Parameters\n",
        "  ----------\n",
        "    returns : pd.series or np.ndarray\n",
        "      Daily return of a strategy, noncummulative.\n",
        "    adjusment_factor : int, float\n",
        "      Constantly daily benchmark return throughout the period.\n",
        "\n",
        "  Returns\n",
        "  ------\n",
        "    sharp_ratio : float\n",
        "  \n",
        "  Note\n",
        "  ---\n",
        "    https://en.wikipedia.org/wiki/Sharpe_ratio\n",
        "  \"\"\"\n",
        "  \n",
        "  returns_risk_adj = returns - adjustment_factor\n",
        "  return (\n",
        "          returns_risk_adj.mean() / returns_risk_adj.std()\n",
        "  ) * np.sqrt(252)"
      ],
      "metadata": {
        "id": "ilZXXVYnfJIv"
      },
      "execution_count": 9,
      "outputs": []
    },
    {
      "cell_type": "markdown",
      "source": [
        "The Sharpe ratio for AAPL is higher than for SPY. That means you got more return for every unit of risk."
      ],
      "metadata": {
        "id": "xnn00Xz9jsYR"
      }
    },
    {
      "cell_type": "code",
      "source": [
        "sharp_ratio(spy_returns), sharp_ratio(aapl_returns)"
      ],
      "metadata": {
        "colab": {
          "base_uri": "https://localhost:8080/"
        },
        "id": "NEOXafj0jrhT",
        "outputId": "a3d1df23-7e97-4214-9aa0-2a418db700d0"
      },
      "execution_count": 15,
      "outputs": [
        {
          "output_type": "execute_result",
          "data": {
            "text/plain": [
              "(0.5076771282289056, 0.9896892191514661)"
            ]
          },
          "metadata": {},
          "execution_count": 15
        }
      ]
    },
    {
      "cell_type": "markdown",
      "source": [
        "This makes sense:\n",
        "\n",
        "When stocks rally, standard deviation drops, pushing the Sharpe ratio up.\n",
        "\n",
        "The opposite is true too.\n",
        "\n",
        "Let’s see the distribution of these values."
      ],
      "metadata": {
        "id": "x-d8XdCakCPW"
      }
    },
    {
      "cell_type": "code",
      "source": [
        "aapl_returns.rolling(30).apply(sharp_ratio).plot()"
      ],
      "metadata": {
        "colab": {
          "base_uri": "https://localhost:8080/",
          "height": 296
        },
        "id": "PgPGkS7IfLVV",
        "outputId": "f7dac614-03ed-4c1a-f611-dfdd680f83b0"
      },
      "execution_count": 10,
      "outputs": [
        {
          "output_type": "execute_result",
          "data": {
            "text/plain": [
              "<matplotlib.axes._subplots.AxesSubplot at 0x7f630f576910>"
            ]
          },
          "metadata": {},
          "execution_count": 10
        },
        {
          "output_type": "display_data",
          "data": {
            "text/plain": [
              "<Figure size 432x288 with 1 Axes>"
            ],
            "image/png": "[encoded data removed]"
          },
          "metadata": {
            "needs_background": "light"
          }
        }
      ]
    },
    {
      "cell_type": "markdown",
      "source": [
        "Use a histogram to visualize the distribution of rolling Sharpe ratios.\n",
        "\n",
        "In the case of AAPL, there is a long tail of positive Sharpe ratios.\n",
        "\n",
        "That also makes sense:\n",
        "\n",
        "AAPL had a lot of positive returns over the last 2.5 years."
      ],
      "metadata": {
        "id": "IetJ3UglkGtG"
      }
    },
    {
      "cell_type": "code",
      "source": [
        "aapl_returns.rolling(30).apply(sharp_ratio).hist(bins=50)\n"
      ],
      "metadata": {
        "colab": {
          "base_uri": "https://localhost:8080/",
          "height": 282
        },
        "id": "qGaQ5YHAf5rR",
        "outputId": "940c1396-109e-479a-ec47-a4c25015eaef"
      },
      "execution_count": 11,
      "outputs": [
        {
          "output_type": "execute_result",
          "data": {
            "text/plain": [
              "<matplotlib.axes._subplots.AxesSubplot at 0x7f630f487550>"
            ]
          },
          "metadata": {},
          "execution_count": 11
        },
        {
          "output_type": "display_data",
          "data": {
            "text/plain": [
              "<Figure size 432x288 with 1 Axes>"
            ],
            "image/png": "[encoded data removed]"
          },
          "metadata": {
            "needs_background": "light"
          }
        }
      ]
    },
    {
      "cell_type": "markdown",
      "source": [
        "Finally, let’s see how the Sharpe ratios of AAPL and SPY compare through time.\n",
        "\n",
        "Was AAPL always a better risk adjusted return?\n",
        "\n",
        "It doesn’t look like AAPL consistently beats SPY over every 30 day period.\n",
        "\n",
        "But over the entire 2-year period, it does."
      ],
      "metadata": {
        "id": "1t_9B8pgkNnD"
      }
    },
    {
      "cell_type": "code",
      "source": [
        "( aapl_returns.rolling(30).apply(sharp_ratio) - spy_returns.rolling(30).apply(sharp_ratio)).hist(bins=50)"
      ],
      "metadata": {
        "colab": {
          "base_uri": "https://localhost:8080/",
          "height": 282
        },
        "id": "6LFtay1Jf7Es",
        "outputId": "8a3fa72a-2515-4312-a647-22eeeeda9a3c"
      },
      "execution_count": 12,
      "outputs": [
        {
          "output_type": "execute_result",
          "data": {
            "text/plain": [
              "<matplotlib.axes._subplots.AxesSubplot at 0x7f630f48ba90>"
            ]
          },
          "metadata": {},
          "execution_count": 12
        },
        {
          "output_type": "display_data",
          "data": {
            "text/plain": [
              "<Figure size 432x288 with 1 Axes>"
            ],
            "image/png": "[encoded data removed]"
          },
          "metadata": {
            "needs_background": "light"
          }
        }
      ]
    },
    {
      "cell_type": "code",
      "source": [],
      "metadata": {
        "id": "7npPJSdtf9Ci"
      },
      "execution_count": null,
      "outputs": []
    }
  ]
}